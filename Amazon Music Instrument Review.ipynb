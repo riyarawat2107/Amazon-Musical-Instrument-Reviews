{
 "cells": [
  {
   "cell_type": "markdown",
   "id": "73f16496-265f-4675-873a-a413f11341cd",
   "metadata": {},
   "source": [
    "#                                                                    Amazon Music Instrument  Project"
   ]
  },
  {
   "cell_type": "markdown",
   "id": "64eae601-3b81-47b5-94b3-d479ef346bf6",
   "metadata": {},
   "source": [
    "# --> Analysis On the given Description"
   ]
  },
  {
   "cell_type": "markdown",
   "id": "9544a375-36d2-4761-bd86-14c793d681cc",
   "metadata": {},
   "source": [
    "# Description of Columns in the File\n",
    "#### reviewerID - ID of the reviewer, e.g. A2SUAM1J3GNN3B asin - ID of the product, e.g. 0000013714 reviewerName - name of the reviewer helpful - helpfulness rating of the review, e.g. 2/3 reviewText - text of the review overall - rating of the product summary - summary of the review unixReviewTime - time of the review (unix time) reviewTime - time of the review (raw)"
   ]
  },
  {
   "cell_type": "markdown",
   "id": "618158ce-a931-4fa3-ae9a-aa3361c7d0ca",
   "metadata": {},
   "source": [
    "# Current Directory\n",
    "### The pwd command, short for \"print working directory,\" is a fundamental utility in Unix-like operating systems. \n",
    "### it help You to keep track of where you are in the file system hierarchy."
   ]
  },
  {
   "cell_type": "code",
   "execution_count": 1,
   "id": "23b57403-6791-41c9-8410-9952019e145e",
   "metadata": {},
   "outputs": [
    {
     "data": {
      "text/plain": [
       "'C:\\\\Users\\\\user\\\\100Days-of-ML'"
      ]
     },
     "execution_count": 1,
     "metadata": {},
     "output_type": "execute_result"
    }
   ],
   "source": [
    "pwd"
   ]
  },
  {
   "cell_type": "markdown",
   "id": "74f25734-1cf8-4785-bbac-0f1c5d0d4923",
   "metadata": {},
   "source": [
    "# Unzipping the file -\n",
    "#### here we unzip the file because file is loaded in a zip format first we have to extract the file  in a newly created directory and converted into readable format to the csv file."
   ]
  },
  {
   "cell_type": "code",
   "execution_count": 2,
   "id": "e3e1e421-7c73-4644-badf-2725cb121f46",
   "metadata": {},
   "outputs": [
    {
     "name": "stdout",
     "output_type": "stream",
     "text": [
      "Files extracted to extracted_files\n"
     ]
    }
   ],
   "source": [
    "import zipfile\n",
    "import os\n",
    "\n",
    "# Path to the ZIP file\n",
    "zip_file_path = 'Musical_instruments_reviews.csv.zip'\n",
    "\n",
    "# Directory to extract files to\n",
    "extract_dir = 'extracted_files'\n",
    "\n",
    "# Create the directory if it doesn't exist\n",
    "os.makedirs(extract_dir, exist_ok=True)\n",
    "\n",
    "# Unzip the file\n",
    "with zipfile.ZipFile(zip_file_path, 'r') as zip_ref:\n",
    "    zip_ref.extractall(extract_dir)\n",
    "\n",
    "print(f\"Files extracted to {extract_dir}\")\n"
   ]
  },
  {
   "cell_type": "code",
   "execution_count": 3,
   "id": "a3397511-2e3f-4bb0-9482-732e3a06d1a2",
   "metadata": {},
   "outputs": [
    {
     "name": "stdout",
     "output_type": "stream",
     "text": [
      "Extracted files: ['Musical_Instruments_5.json', 'Musical_instruments_reviews.csv']\n"
     ]
    }
   ],
   "source": [
    "import os\n",
    "import pandas as pd                                     \n",
    "import numpy as np\n",
    "\n",
    "# List the extracted files\n",
    "extracted_files = os.listdir(extract_dir)\n",
    "print(\"Extracted files:\", extracted_files)\n"
   ]
  },
  {
   "cell_type": "code",
   "execution_count": 4,
   "id": "4577f66a-5960-4dae-9ece-84344a923f9b",
   "metadata": {},
   "outputs": [
    {
     "name": "stdout",
     "output_type": "stream",
     "text": [
      "Unzipping completed!\n"
     ]
    }
   ],
   "source": [
    "import zipfile\n",
    "import os\n",
    "\n",
    "# Path to the zip file\n",
    "zip_file_path = \"C:/Users/user/100Days-of-ML/Musical_instruments_reviews.csv.zip\"\n",
    "\n",
    "# Destination directory\n",
    "dest_dir = \"C:/Users/user/100Days-of-ML/\"\n",
    "\n",
    "# Unzipping the file\n",
    "with zipfile.ZipFile(zip_file_path, 'r') as zip_ref:\n",
    "    zip_ref.extractall(dest_dir)\n",
    "\n",
    "print(\"Unzipping completed!\")\n"
   ]
  },
  {
   "cell_type": "markdown",
   "id": "a5b264b8-77f1-48d3-8bb6-6ce587441ebc",
   "metadata": {},
   "source": [
    "# Import Necessary Library"
   ]
  },
  {
   "cell_type": "code",
   "execution_count": 5,
   "id": "5c533667-bbec-4f6d-abd0-17848e926524",
   "metadata": {},
   "outputs": [],
   "source": [
    "import warnings\n",
    "warnings.filterwarnings('ignore')\n",
    "\n",
    "import numpy as np # linear algebra\n",
    "import pandas as pd # data processing, CSV file I/O (e.g. pd.read_csv)\n",
    "import matplotlib.pyplot as plt\n",
    "import seaborn as sns\n",
    "\n",
    "#Text Preprocessing\n",
    "import re\n",
    "import string\n",
    "import nltk\n",
    "from string import punctuation\n",
    "from nltk.corpus import stopwords\n",
    "from nltk.tokenize import word_tokenize\n",
    "from nltk.stem import WordNetLemmatizer\n",
    "from nltk.stem import PorterStemmer\n",
    "from sklearn.feature_extraction.text import TfidfVectorizer\n",
    "\n",
    "from gensim.models import Word2Vec\n",
    "from gensim.models import KeyedVectors\n",
    "import pickle\n",
    "from tqdm import tqdm\n",
    "import os\n",
    "#Model building\n",
    "from sklearn.model_selection import train_test_split\n",
    "from sklearn.linear_model import LogisticRegression\n",
    "from sklearn.naive_bayes import MultinomialNB\n",
    "from sklearn.ensemble import RandomForestClassifier\n",
    "from sklearn.metrics import accuracy_score, classification_report, confusion_matrix, ConfusionMatrixDisplay\n"
   ]
  },
  {
   "cell_type": "markdown",
   "id": "e7e924c8-c0b8-4a26-86e5-3ba18e2b81e3",
   "metadata": {},
   "source": [
    "# Step 1: Data Collection"
   ]
  },
  {
   "cell_type": "markdown",
   "id": "9255eee4-d9f7-4014-826e-1b0d089994ad",
   "metadata": {},
   "source": [
    "## 1.1 Download the Dataset from Kaggle (Amazon Music Instrument Review)"
   ]
  },
  {
   "cell_type": "markdown",
   "id": "2cc42269-3ae8-4b2a-9f73-3e88a943474a",
   "metadata": {},
   "source": [
    "\n",
    "## 1.2 Step 1:  Load the Dataset into Jupyter Notebook\n",
    "#### a)Loading the dataset is the initial and crucial step in any data analysis or machine learning project.\n",
    "#### b)This involves importing the data from its source, which could be a CSV file, a database, or an online repository, into your working environment."
   ]
  },
  {
   "cell_type": "code",
   "execution_count": 6,
   "id": "8596c0fc-9f82-466d-8fab-d29d18eed584",
   "metadata": {},
   "outputs": [
    {
     "name": "stdout",
     "output_type": "stream",
     "text": [
      "       reviewerID        asin  \\\n",
      "0  A2IBPI20UZIR0U  1384719342   \n",
      "1  A14VAT5EAX3D9S  1384719342   \n",
      "2  A195EZSQDW3E21  1384719342   \n",
      "3  A2C00NNG1ZQQG2  1384719342   \n",
      "4   A94QU4C90B1AX  1384719342   \n",
      "\n",
      "                                       reviewerName   helpful  \\\n",
      "0  cassandra tu \"Yeah, well, that's just like, u...    [0, 0]   \n",
      "1                                              Jake  [13, 14]   \n",
      "2                     Rick Bennette \"Rick Bennette\"    [1, 1]   \n",
      "3                         RustyBill \"Sunday Rocker\"    [0, 0]   \n",
      "4                                     SEAN MASLANKA    [0, 0]   \n",
      "\n",
      "                                          reviewText  overall  \\\n",
      "0  Not much to write about here, but it does exac...      5.0   \n",
      "1  The product does exactly as it should and is q...      5.0   \n",
      "2  The primary job of this device is to block the...      5.0   \n",
      "3  Nice windscreen protects my MXL mic and preven...      5.0   \n",
      "4  This pop filter is great. It looks and perform...      5.0   \n",
      "\n",
      "                                 summary  unixReviewTime   reviewTime  \n",
      "0                                   good      1393545600  02 28, 2014  \n",
      "1                                   Jake      1363392000  03 16, 2013  \n",
      "2                   It Does The Job Well      1377648000  08 28, 2013  \n",
      "3          GOOD WINDSCREEN FOR THE MONEY      1392336000  02 14, 2014  \n",
      "4  No more pops when I record my vocals.      1392940800  02 21, 2014  \n"
     ]
    }
   ],
   "source": [
    "\n",
    "# Load the CSV file into a DataFrame\n",
    "df = pd.read_csv('C:/Users/user/100Days-of-ML/Musical_instruments_reviews.csv')\n",
    "\n",
    "# Display the first few rows of the DataFrame\n",
    "print(df.head())\n"
   ]
  },
  {
   "cell_type": "code",
   "execution_count": 7,
   "id": "f4a76595-4050-4e00-90e5-09fb82b4c77a",
   "metadata": {},
   "outputs": [
    {
     "data": {
      "text/plain": [
       "(10261, 9)"
      ]
     },
     "execution_count": 7,
     "metadata": {},
     "output_type": "execute_result"
    }
   ],
   "source": [
    "df.shape"
   ]
  },
  {
   "cell_type": "markdown",
   "id": "5710d41f-36cc-4d04-abad-b088005a7044",
   "metadata": {},
   "source": [
    "## 1.3 Inspect the Dataset structure and featured"
   ]
  },
  {
   "cell_type": "code",
   "execution_count": 8,
   "id": "8d1e5042-cf69-4714-83f8-1ab64dd81b96",
   "metadata": {},
   "outputs": [
    {
     "data": {
      "text/plain": [
       "Index(['reviewerID', 'asin', 'reviewerName', 'helpful', 'reviewText',\n",
       "       'overall', 'summary', 'unixReviewTime', 'reviewTime'],\n",
       "      dtype='object')"
      ]
     },
     "execution_count": 8,
     "metadata": {},
     "output_type": "execute_result"
    }
   ],
   "source": [
    "df.columns"
   ]
  },
  {
   "cell_type": "code",
   "execution_count": 9,
   "id": "4bac6f91-50de-4aee-97b5-94750c97f353",
   "metadata": {},
   "outputs": [
    {
     "name": "stdout",
     "output_type": "stream",
     "text": [
      "<class 'pandas.core.frame.DataFrame'>\n",
      "RangeIndex: 10261 entries, 0 to 10260\n",
      "Data columns (total 9 columns):\n",
      " #   Column          Non-Null Count  Dtype  \n",
      "---  ------          --------------  -----  \n",
      " 0   reviewerID      10261 non-null  object \n",
      " 1   asin            10261 non-null  object \n",
      " 2   reviewerName    10234 non-null  object \n",
      " 3   helpful         10261 non-null  object \n",
      " 4   reviewText      10254 non-null  object \n",
      " 5   overall         10261 non-null  float64\n",
      " 6   summary         10261 non-null  object \n",
      " 7   unixReviewTime  10261 non-null  int64  \n",
      " 8   reviewTime      10261 non-null  object \n",
      "dtypes: float64(1), int64(1), object(7)\n",
      "memory usage: 721.6+ KB\n",
      "None\n"
     ]
    }
   ],
   "source": [
    "print(df.info())"
   ]
  },
  {
   "cell_type": "code",
   "execution_count": 10,
   "id": "01941155-4b5d-4161-b6d6-e1dee4a89628",
   "metadata": {},
   "outputs": [
    {
     "name": "stdout",
     "output_type": "stream",
     "text": [
      "            overall  unixReviewTime\n",
      "count  10261.000000    1.026100e+04\n",
      "mean       4.488744    1.360606e+09\n",
      "std        0.894642    3.779735e+07\n",
      "min        1.000000    1.095466e+09\n",
      "25%        4.000000    1.343434e+09\n",
      "50%        5.000000    1.368490e+09\n",
      "75%        5.000000    1.388966e+09\n",
      "max        5.000000    1.405987e+09\n"
     ]
    }
   ],
   "source": [
    "print(df.describe())"
   ]
  },
  {
   "cell_type": "code",
   "execution_count": 11,
   "id": "43bb2c03-501f-40f3-a7cb-093dc04aa537",
   "metadata": {},
   "outputs": [],
   "source": [
    "df.drop(['reviewerID','asin','reviewerName','helpful','summary','unixReviewTime','reviewTime'],axis=1,inplace=True)"
   ]
  },
  {
   "cell_type": "code",
   "execution_count": 12,
   "id": "e2aaf0e8-2db9-4666-9e51-2e9ec4884d36",
   "metadata": {},
   "outputs": [
    {
     "name": "stdout",
     "output_type": "stream",
     "text": [
      "<class 'pandas.core.frame.DataFrame'>\n",
      "RangeIndex: 10261 entries, 0 to 10260\n",
      "Data columns (total 2 columns):\n",
      " #   Column      Non-Null Count  Dtype  \n",
      "---  ------      --------------  -----  \n",
      " 0   reviewText  10254 non-null  object \n",
      " 1   overall     10261 non-null  float64\n",
      "dtypes: float64(1), object(1)\n",
      "memory usage: 160.5+ KB\n"
     ]
    }
   ],
   "source": [
    "df.info()"
   ]
  },
  {
   "cell_type": "markdown",
   "id": "c2c57cdd-1f6a-4ee3-98b6-4660ea423a50",
   "metadata": {},
   "source": [
    "# Step 2: Data Preprocessing "
   ]
  },
  {
   "cell_type": "markdown",
   "id": "3ec877f0-89ec-496f-b8da-61f41eff4d98",
   "metadata": {},
   "source": [
    "## 2.1 Handling Missing Values\n",
    "#### Identify and Handle Missing values in the dataset"
   ]
  },
  {
   "cell_type": "code",
   "execution_count": 13,
   "id": "50c2119d-3fab-418d-96db-132f79371644",
   "metadata": {},
   "outputs": [
    {
     "data": {
      "text/plain": [
       "reviewText    7\n",
       "overall       0\n",
       "dtype: int64"
      ]
     },
     "execution_count": 13,
     "metadata": {},
     "output_type": "execute_result"
    }
   ],
   "source": [
    "df.isnull().sum()"
   ]
  },
  {
   "cell_type": "code",
   "execution_count": 14,
   "id": "f16496e6-59d1-4455-8bfa-a4ed05e757ce",
   "metadata": {},
   "outputs": [
    {
     "data": {
      "text/html": [
       "<div>\n",
       "<style scoped>\n",
       "    .dataframe tbody tr th:only-of-type {\n",
       "        vertical-align: middle;\n",
       "    }\n",
       "\n",
       "    .dataframe tbody tr th {\n",
       "        vertical-align: top;\n",
       "    }\n",
       "\n",
       "    .dataframe thead th {\n",
       "        text-align: right;\n",
       "    }\n",
       "</style>\n",
       "<table border=\"1\" class=\"dataframe\">\n",
       "  <thead>\n",
       "    <tr style=\"text-align: right;\">\n",
       "      <th></th>\n",
       "      <th>reviewText</th>\n",
       "      <th>overall</th>\n",
       "    </tr>\n",
       "  </thead>\n",
       "  <tbody>\n",
       "    <tr>\n",
       "      <th>0</th>\n",
       "      <td>Not much to write about here, but it does exac...</td>\n",
       "      <td>5.0</td>\n",
       "    </tr>\n",
       "    <tr>\n",
       "      <th>1</th>\n",
       "      <td>The product does exactly as it should and is q...</td>\n",
       "      <td>5.0</td>\n",
       "    </tr>\n",
       "    <tr>\n",
       "      <th>2</th>\n",
       "      <td>The primary job of this device is to block the...</td>\n",
       "      <td>5.0</td>\n",
       "    </tr>\n",
       "    <tr>\n",
       "      <th>3</th>\n",
       "      <td>Nice windscreen protects my MXL mic and preven...</td>\n",
       "      <td>5.0</td>\n",
       "    </tr>\n",
       "    <tr>\n",
       "      <th>4</th>\n",
       "      <td>This pop filter is great. It looks and perform...</td>\n",
       "      <td>5.0</td>\n",
       "    </tr>\n",
       "  </tbody>\n",
       "</table>\n",
       "</div>"
      ],
      "text/plain": [
       "                                          reviewText  overall\n",
       "0  Not much to write about here, but it does exac...      5.0\n",
       "1  The product does exactly as it should and is q...      5.0\n",
       "2  The primary job of this device is to block the...      5.0\n",
       "3  Nice windscreen protects my MXL mic and preven...      5.0\n",
       "4  This pop filter is great. It looks and perform...      5.0"
      ]
     },
     "execution_count": 14,
     "metadata": {},
     "output_type": "execute_result"
    }
   ],
   "source": [
    "df.dropna(subset='reviewText',inplace=True)\n",
    "df.head()"
   ]
  },
  {
   "cell_type": "code",
   "execution_count": 15,
   "id": "612a542d-d9d1-45c5-b9df-56876c716ecf",
   "metadata": {},
   "outputs": [
    {
     "data": {
      "text/plain": [
       "0"
      ]
     },
     "execution_count": 15,
     "metadata": {},
     "output_type": "execute_result"
    }
   ],
   "source": [
    "df.duplicated().sum()"
   ]
  },
  {
   "cell_type": "markdown",
   "id": "b9025ff6-d722-4127-815e-2abb73fd60b7",
   "metadata": {},
   "source": [
    "## 2.2 Data Cleaning \n",
    "#### Data cleaning, also known as data cleansing, is a vital step in preparing your dataset for analysis. This process involves identifying and correcting inaccuracies, inconsistencies, and missing values in the data"
   ]
  },
  {
   "cell_type": "code",
   "execution_count": 16,
   "id": "39c85408-7fc4-47f3-89ba-54d1009183f3",
   "metadata": {},
   "outputs": [
    {
     "data": {
      "text/plain": [
       "overall\n",
       "5.0    6932\n",
       "4.0    2083\n",
       "3.0     772\n",
       "2.0     250\n",
       "1.0     217\n",
       "Name: count, dtype: int64"
      ]
     },
     "execution_count": 16,
     "metadata": {},
     "output_type": "execute_result"
    }
   ],
   "source": [
    "df['overall'].value_counts()"
   ]
  },
  {
   "cell_type": "code",
   "execution_count": 17,
   "id": "f10a0289-33a7-49c1-b650-f8138e280a08",
   "metadata": {},
   "outputs": [],
   "source": [
    "def check(score):\n",
    "    if score > 3:\n",
    "          return 1\n",
    "    else:\n",
    "        return 0\n",
    "     "
   ]
  },
  {
   "cell_type": "code",
   "execution_count": 18,
   "id": "2c578e0d-4b7b-49c3-9cdd-dd9b10b37cc9",
   "metadata": {},
   "outputs": [],
   "source": [
    "df['sentiment'] = df['overall'].apply(check)"
   ]
  },
  {
   "cell_type": "markdown",
   "id": "ca1c017a-f21f-4a86-ad15-a763612d9dd0",
   "metadata": {},
   "source": [
    "## 2.3 Text Normalization\n",
    "#### Text normalization is an essential preprocessing step in natural language processing (NLP) that involves transforming text into a consistent and standard format. This process ensures that the text data is clean, uniform, and ready for analysis or model training. Key tasks in text normalization include converting text to lowercase, removing punctuation, eliminating stop words, stemming or lemmatizing words, and correcting spelling errors. "
   ]
  },
  {
   "cell_type": "code",
   "execution_count": 19,
   "id": "dfce56ab-9800-4c2c-bb0f-b7c33932472d",
   "metadata": {},
   "outputs": [
    {
     "name": "stderr",
     "output_type": "stream",
     "text": [
      "[nltk_data] Downloading package stopwords to\n",
      "[nltk_data]     C:\\Users\\user\\AppData\\Roaming\\nltk_data...\n",
      "[nltk_data]   Package stopwords is already up-to-date!\n"
     ]
    },
    {
     "data": {
      "text/plain": [
       "True"
      ]
     },
     "execution_count": 19,
     "metadata": {},
     "output_type": "execute_result"
    }
   ],
   "source": [
    "import nltk\n",
    "nltk.download('stopwords')\n"
   ]
  },
  {
   "cell_type": "code",
   "execution_count": 20,
   "id": "aed62352-f6d8-4493-b30d-0df835aa4a70",
   "metadata": {},
   "outputs": [
    {
     "name": "stderr",
     "output_type": "stream",
     "text": [
      "[nltk_data] Downloading package punkt to\n",
      "[nltk_data]     C:\\Users\\user\\AppData\\Roaming\\nltk_data...\n",
      "[nltk_data]   Package punkt is already up-to-date!\n"
     ]
    },
    {
     "data": {
      "text/plain": [
       "True"
      ]
     },
     "execution_count": 20,
     "metadata": {},
     "output_type": "execute_result"
    }
   ],
   "source": [
    "import nltk\n",
    "nltk.download('punkt')\n"
   ]
  },
  {
   "cell_type": "code",
   "execution_count": 21,
   "id": "e0f52933-fd35-4a96-9df6-849ab27ce7c1",
   "metadata": {},
   "outputs": [],
   "source": [
    "import nltk\n",
    "nltk.data.path.append(\"/path/to/nltk_data\")\n"
   ]
  },
  {
   "cell_type": "code",
   "execution_count": 22,
   "id": "2dcf675f-dac6-4a7b-aa8b-b802a2c55833",
   "metadata": {},
   "outputs": [
    {
     "name": "stderr",
     "output_type": "stream",
     "text": [
      "[nltk_data] Downloading package punkt to\n",
      "[nltk_data]     C:\\Users\\user\\AppData\\Roaming\\nltk_data...\n",
      "[nltk_data]   Package punkt is already up-to-date!\n",
      "[nltk_data] Downloading package stopwords to\n",
      "[nltk_data]     C:\\Users\\user\\AppData\\Roaming\\nltk_data...\n",
      "[nltk_data]   Package stopwords is already up-to-date!\n"
     ]
    },
    {
     "name": "stdout",
     "output_type": "stream",
     "text": [
      "                                          reviewText  overall  sentiment  \\\n",
      "0  Not much to write about here, but it does exac...      5.0          1   \n",
      "1  The product does exactly as it should and is q...      5.0          1   \n",
      "2  The primary job of this device is to block the...      5.0          1   \n",
      "3  Nice windscreen protects my MXL mic and preven...      5.0          1   \n",
      "4  This pop filter is great. It looks and perform...      5.0          1   \n",
      "\n",
      "                                        cleaned_text  \n",
      "0  much write exactly 's supposed filters pop sou...  \n",
      "1  product exactly quite affordable.I realized do...  \n",
      "2  primary job device block breath would otherwis...  \n",
      "3  Nice windscreen protects MXL mic prevents pops...  \n",
      "4  pop filter great looks performs like studio fi...  \n"
     ]
    }
   ],
   "source": [
    "# Import necessary libraries\n",
    "import pandas as pd\n",
    "import nltk\n",
    "from nltk.corpus import stopwords\n",
    "from string import punctuation\n",
    "\n",
    "# Download NLTK resources (if not already downloaded)\n",
    "nltk.download('punkt')\n",
    "nltk.download('stopwords')\n",
    "\n",
    "# Define your clean_text function\n",
    "def clean_text(text):\n",
    "    stop = set(stopwords.words('english'))\n",
    "    punc = set(punctuation)\n",
    "    \n",
    "    # Tokenize and clean the text\n",
    "    tokens = [word for word in nltk.word_tokenize(text) if word.lower() not in stop and word not in punc]\n",
    "    \n",
    "    # Join tokens back into a single string\n",
    "    return \" \".join(tokens)\n",
    "\n",
    "# Apply the function to your DataFrame\n",
    "df['cleaned_text'] = df['reviewText'].apply(clean_text)\n",
    "\n",
    "# Display the first few rows of the DataFrame to check the cleaned text\n",
    "print(df.head())\n"
   ]
  },
  {
   "cell_type": "markdown",
   "id": "efbc4e82-be6b-4f59-8b76-1e7ee393a9ea",
   "metadata": {},
   "source": [
    "# Step 3: EDA(Exploratory Data Analysis)"
   ]
  },
  {
   "cell_type": "markdown",
   "id": "d8e8f715-0c59-4c2e-a8b6-ce2e24203265",
   "metadata": {},
   "source": [
    "##  3.1 Data Visualization \n",
    "####  keep the original data also for the preservation of Raw data ,Contextual Analysis and feature Engineering"
   ]
  },
  {
   "cell_type": "code",
   "execution_count": 23,
   "id": "3d496801-9574-4147-8361-c0634a6e8c97",
   "metadata": {},
   "outputs": [
    {
     "data": {
      "text/html": [
       "<div>\n",
       "<style scoped>\n",
       "    .dataframe tbody tr th:only-of-type {\n",
       "        vertical-align: middle;\n",
       "    }\n",
       "\n",
       "    .dataframe tbody tr th {\n",
       "        vertical-align: top;\n",
       "    }\n",
       "\n",
       "    .dataframe thead th {\n",
       "        text-align: right;\n",
       "    }\n",
       "</style>\n",
       "<table border=\"1\" class=\"dataframe\">\n",
       "  <thead>\n",
       "    <tr style=\"text-align: right;\">\n",
       "      <th></th>\n",
       "      <th>reviewText</th>\n",
       "      <th>overall</th>\n",
       "      <th>sentiment</th>\n",
       "      <th>cleaned_text</th>\n",
       "    </tr>\n",
       "  </thead>\n",
       "  <tbody>\n",
       "    <tr>\n",
       "      <th>0</th>\n",
       "      <td>Not much to write about here, but it does exac...</td>\n",
       "      <td>5.0</td>\n",
       "      <td>1</td>\n",
       "      <td>much write exactly 's supposed filters pop sou...</td>\n",
       "    </tr>\n",
       "    <tr>\n",
       "      <th>1</th>\n",
       "      <td>The product does exactly as it should and is q...</td>\n",
       "      <td>5.0</td>\n",
       "      <td>1</td>\n",
       "      <td>product exactly quite affordable.I realized do...</td>\n",
       "    </tr>\n",
       "    <tr>\n",
       "      <th>2</th>\n",
       "      <td>The primary job of this device is to block the...</td>\n",
       "      <td>5.0</td>\n",
       "      <td>1</td>\n",
       "      <td>primary job device block breath would otherwis...</td>\n",
       "    </tr>\n",
       "    <tr>\n",
       "      <th>3</th>\n",
       "      <td>Nice windscreen protects my MXL mic and preven...</td>\n",
       "      <td>5.0</td>\n",
       "      <td>1</td>\n",
       "      <td>Nice windscreen protects MXL mic prevents pops...</td>\n",
       "    </tr>\n",
       "    <tr>\n",
       "      <th>4</th>\n",
       "      <td>This pop filter is great. It looks and perform...</td>\n",
       "      <td>5.0</td>\n",
       "      <td>1</td>\n",
       "      <td>pop filter great looks performs like studio fi...</td>\n",
       "    </tr>\n",
       "  </tbody>\n",
       "</table>\n",
       "</div>"
      ],
      "text/plain": [
       "                                          reviewText  overall  sentiment  \\\n",
       "0  Not much to write about here, but it does exac...      5.0          1   \n",
       "1  The product does exactly as it should and is q...      5.0          1   \n",
       "2  The primary job of this device is to block the...      5.0          1   \n",
       "3  Nice windscreen protects my MXL mic and preven...      5.0          1   \n",
       "4  This pop filter is great. It looks and perform...      5.0          1   \n",
       "\n",
       "                                        cleaned_text  \n",
       "0  much write exactly 's supposed filters pop sou...  \n",
       "1  product exactly quite affordable.I realized do...  \n",
       "2  primary job device block breath would otherwis...  \n",
       "3  Nice windscreen protects MXL mic prevents pops...  \n",
       "4  pop filter great looks performs like studio fi...  "
      ]
     },
     "execution_count": 23,
     "metadata": {},
     "output_type": "execute_result"
    }
   ],
   "source": [
    "df.head()"
   ]
  },
  {
   "cell_type": "code",
   "execution_count": 24,
   "id": "59b63aac-c307-48cd-a97f-58035160f687",
   "metadata": {},
   "outputs": [
    {
     "data": {
      "text/html": [
       "<div>\n",
       "<style scoped>\n",
       "    .dataframe tbody tr th:only-of-type {\n",
       "        vertical-align: middle;\n",
       "    }\n",
       "\n",
       "    .dataframe tbody tr th {\n",
       "        vertical-align: top;\n",
       "    }\n",
       "\n",
       "    .dataframe thead th {\n",
       "        text-align: right;\n",
       "    }\n",
       "</style>\n",
       "<table border=\"1\" class=\"dataframe\">\n",
       "  <thead>\n",
       "    <tr style=\"text-align: right;\">\n",
       "      <th></th>\n",
       "      <th>overall</th>\n",
       "      <th>sentiment</th>\n",
       "    </tr>\n",
       "  </thead>\n",
       "  <tbody>\n",
       "    <tr>\n",
       "      <th>count</th>\n",
       "      <td>10254.000000</td>\n",
       "      <td>10254.000000</td>\n",
       "    </tr>\n",
       "    <tr>\n",
       "      <th>mean</th>\n",
       "      <td>4.488492</td>\n",
       "      <td>0.879169</td>\n",
       "    </tr>\n",
       "    <tr>\n",
       "      <th>std</th>\n",
       "      <td>0.894849</td>\n",
       "      <td>0.325947</td>\n",
       "    </tr>\n",
       "    <tr>\n",
       "      <th>min</th>\n",
       "      <td>1.000000</td>\n",
       "      <td>0.000000</td>\n",
       "    </tr>\n",
       "    <tr>\n",
       "      <th>25%</th>\n",
       "      <td>4.000000</td>\n",
       "      <td>1.000000</td>\n",
       "    </tr>\n",
       "    <tr>\n",
       "      <th>50%</th>\n",
       "      <td>5.000000</td>\n",
       "      <td>1.000000</td>\n",
       "    </tr>\n",
       "    <tr>\n",
       "      <th>75%</th>\n",
       "      <td>5.000000</td>\n",
       "      <td>1.000000</td>\n",
       "    </tr>\n",
       "    <tr>\n",
       "      <th>max</th>\n",
       "      <td>5.000000</td>\n",
       "      <td>1.000000</td>\n",
       "    </tr>\n",
       "  </tbody>\n",
       "</table>\n",
       "</div>"
      ],
      "text/plain": [
       "            overall     sentiment\n",
       "count  10254.000000  10254.000000\n",
       "mean       4.488492      0.879169\n",
       "std        0.894849      0.325947\n",
       "min        1.000000      0.000000\n",
       "25%        4.000000      1.000000\n",
       "50%        5.000000      1.000000\n",
       "75%        5.000000      1.000000\n",
       "max        5.000000      1.000000"
      ]
     },
     "execution_count": 24,
     "metadata": {},
     "output_type": "execute_result"
    }
   ],
   "source": [
    "df.describe()"
   ]
  },
  {
   "cell_type": "markdown",
   "id": "aada6b44-35e3-4e9c-966a-beee8da23e8e",
   "metadata": {},
   "source": [
    "# Histogram Plot-->\n",
    "#### A histogram is a graphical representation that shows the distribution of a dataset by dividing the data into bins and counting the number of observations in each bin. It helps visualize the shape, central tendency, and spread of the data."
   ]
  },
  {
   "cell_type": "code",
   "execution_count": 25,
   "id": "92c85fb9-c49a-461b-9233-ecf42b9a3d7d",
   "metadata": {},
   "outputs": [
    {
     "data": {
      "image/png": "[encoded data removed]",
      "text/plain": [
       "<Figure size 1000x400 with 2 Axes>"
      ]
     },
     "metadata": {},
     "output_type": "display_data"
    }
   ],
   "source": [
    "# Histogram of numerical columns\n",
    "df.hist(figsize=(10,4))\n",
    "plt.tight_layout()\n",
    "plt.show()"
   ]
  },
  {
   "cell_type": "markdown",
   "id": "538ef20e-e03b-447c-8219-9fca50d6d997",
   "metadata": {},
   "source": [
    "# Box  plot-->\n",
    "#### A box plot, or box-and-whisker plot, summarizes the distribution of a dataset through its quartiles, highlighting the median, interquartile range (IQR), and potential outliers. It is useful for identifying the spread and skewness of the data."
   ]
  },
  {
   "cell_type": "code",
   "execution_count": 26,
   "id": "b21d00a4-55a6-4cbb-bc2a-fb1a76de13ff",
   "metadata": {},
   "outputs": [
    {
     "data": {
      "image/png": "[encoded data removed]",
      "text/plain": [
       "<Figure size 640x480 with 1 Axes>"
      ]
     },
     "metadata": {},
     "output_type": "display_data"
    }
   ],
   "source": [
    "#Box plot to identify Outliers\n",
    "sns.boxplot(data=df)\n",
    "plt.show()"
   ]
  },
  {
   "cell_type": "markdown",
   "id": "1234f621-6495-42bc-9aef-df45da93fdef",
   "metadata": {},
   "source": [
    "## 3.2 Sentimental Analysis\n",
    "#### Perform Sentiment analysis to understand the Polarity of Reviews"
   ]
  },
  {
   "cell_type": "code",
   "execution_count": 27,
   "id": "b304d25a-f7d0-40c5-b8f6-88d967d34c0c",
   "metadata": {},
   "outputs": [
    {
     "name": "stdout",
     "output_type": "stream",
     "text": [
      "                           reviewText  overall sentiment\n",
      "0              This product is great!        5  positive\n",
      "1     Not satisfied with the quality.        2  negative\n",
      "2  It works well but could be better.        3   neutral\n",
      "3                   Highly recommend!        5  positive\n",
      "4   Product was damaged upon arrival.        1  negative\n",
      "5    Decent product, could be better.        3   neutral\n",
      "6    Exceptional quality, very happy.        5  positive\n",
      "7  Disappointed with the performance.        1  negative\n",
      "8     Met expectations, nothing more.        3   neutral\n",
      "9    Terrible experience, do not buy.        1  negative\n"
     ]
    },
    {
     "data": {
      "image/png": "[encoded data removed]",
      "text/plain": [
       "<Figure size 640x480 with 1 Axes>"
      ]
     },
     "metadata": {},
     "output_type": "display_data"
    },
    {
     "data": {
      "image/png": "[encoded data removed]",
      "text/plain": [
       "<Figure size 640x480 with 1 Axes>"
      ]
     },
     "metadata": {},
     "output_type": "display_data"
    },
    {
     "data": {
      "text/plain": [
       "<function matplotlib.pyplot.show(close=None, block=None)>"
      ]
     },
     "execution_count": 27,
     "metadata": {},
     "output_type": "execute_result"
    },
    {
     "data": {
      "image/png": "[encoded data removed]",
      "text/plain": [
       "<Figure size 640x480 with 1 Axes>"
      ]
     },
     "metadata": {},
     "output_type": "display_data"
    }
   ],
   "source": [
    "import pandas as pd\n",
    "import seaborn as sns\n",
    "import matplotlib.pyplot as plt\n",
    "\n",
    "# Example DataFrame\n",
    "data = {\n",
    "    'reviewText': [\n",
    "        'This product is great!',\n",
    "        'Not satisfied with the quality.',\n",
    "        'It works well but could be better.',\n",
    "        'Highly recommend!',\n",
    "        'Product was damaged upon arrival.',\n",
    "        'Decent product, could be better.',\n",
    "        'Exceptional quality, very happy.',\n",
    "        'Disappointed with the performance.',\n",
    "        'Met expectations, nothing more.',\n",
    "        'Terrible experience, do not buy.'\n",
    "    ],\n",
    "    'overall': [5, 2, 3, 5, 1, 3, 5, 1, 3, 1]\n",
    "}\n",
    "\n",
    "df = pd.DataFrame(data)\n",
    "\n",
    "# Function to categorize sentiment based on overall rating\n",
    "def categorize_sentiment(rating):\n",
    "    if rating >= 4:\n",
    "        return 'positive'\n",
    "    elif rating == 3:\n",
    "        return 'neutral'\n",
    "    else:\n",
    "        return 'negative'\n",
    "\n",
    "# Apply categorization function to create a new column\n",
    "df['sentiment'] = df['overall'].apply(categorize_sentiment)\n",
    "\n",
    "# Display the DataFrame to ensure columns are present\n",
    "print(df)\n",
    "\n",
    "# Display count plot for sentiment\n",
    "sns.countplot(x='sentiment', data=df)\n",
    "plt.title('Distribution of Sentiments')\n",
    "plt.show()\n",
    "\n",
    "# Box plot to explore the relationship between 'overall' rating and 'sentiment'\n",
    "sns.boxplot(x='sentiment', y='overall', data=df)\n",
    "plt.title('Box Plot of Overall Rating by Sentiment')\n",
    "plt.show()\n",
    "\n",
    "# Scatter plot to explore relationships\n",
    "# Note: 'sentiment' must be numerical for scatter plots; converting for visualization purposes\n",
    "# Scatter Plot: Visualizes the relationship between overall rating and sentiment_num\n",
    "sentiment_map = {'positive': 2, 'neutral': 1, 'negative': 0}\n",
    "df['sentiment_num'] = df['sentiment'].map(sentiment_map)\n",
    "\n",
    "sns.scatterplot(x='overall', y='sentiment_num', data=df)\n",
    "plt.title('Scatter Plot of Overall Rating by Sentiment')\n",
    "plt.show\n"
   ]
  },
  {
   "cell_type": "code",
   "execution_count": 28,
   "id": "06187807-4a69-4caa-9e28-65425448a55e",
   "metadata": {},
   "outputs": [
    {
     "data": {
      "text/html": [
       "<div>\n",
       "<style scoped>\n",
       "    .dataframe tbody tr th:only-of-type {\n",
       "        vertical-align: middle;\n",
       "    }\n",
       "\n",
       "    .dataframe tbody tr th {\n",
       "        vertical-align: top;\n",
       "    }\n",
       "\n",
       "    .dataframe thead th {\n",
       "        text-align: right;\n",
       "    }\n",
       "</style>\n",
       "<table border=\"1\" class=\"dataframe\">\n",
       "  <thead>\n",
       "    <tr style=\"text-align: right;\">\n",
       "      <th></th>\n",
       "      <th>overall</th>\n",
       "      <th>sentiment_num</th>\n",
       "    </tr>\n",
       "  </thead>\n",
       "  <tbody>\n",
       "    <tr>\n",
       "      <th>count</th>\n",
       "      <td>10.00000</td>\n",
       "      <td>10.000000</td>\n",
       "    </tr>\n",
       "    <tr>\n",
       "      <th>mean</th>\n",
       "      <td>2.90000</td>\n",
       "      <td>0.900000</td>\n",
       "    </tr>\n",
       "    <tr>\n",
       "      <th>std</th>\n",
       "      <td>1.66333</td>\n",
       "      <td>0.875595</td>\n",
       "    </tr>\n",
       "    <tr>\n",
       "      <th>min</th>\n",
       "      <td>1.00000</td>\n",
       "      <td>0.000000</td>\n",
       "    </tr>\n",
       "    <tr>\n",
       "      <th>25%</th>\n",
       "      <td>1.25000</td>\n",
       "      <td>0.000000</td>\n",
       "    </tr>\n",
       "    <tr>\n",
       "      <th>50%</th>\n",
       "      <td>3.00000</td>\n",
       "      <td>1.000000</td>\n",
       "    </tr>\n",
       "    <tr>\n",
       "      <th>75%</th>\n",
       "      <td>4.50000</td>\n",
       "      <td>1.750000</td>\n",
       "    </tr>\n",
       "    <tr>\n",
       "      <th>max</th>\n",
       "      <td>5.00000</td>\n",
       "      <td>2.000000</td>\n",
       "    </tr>\n",
       "  </tbody>\n",
       "</table>\n",
       "</div>"
      ],
      "text/plain": [
       "        overall  sentiment_num\n",
       "count  10.00000      10.000000\n",
       "mean    2.90000       0.900000\n",
       "std     1.66333       0.875595\n",
       "min     1.00000       0.000000\n",
       "25%     1.25000       0.000000\n",
       "50%     3.00000       1.000000\n",
       "75%     4.50000       1.750000\n",
       "max     5.00000       2.000000"
      ]
     },
     "execution_count": 28,
     "metadata": {},
     "output_type": "execute_result"
    }
   ],
   "source": [
    "\n",
    "df.describe()"
   ]
  },
  {
   "cell_type": "markdown",
   "id": "e2408240-ac7a-45c5-b69f-4ae0a0c3b38a",
   "metadata": {},
   "source": [
    "# Box Plot:\n",
    "#### A box plot is used to compare the distribution of the overall rating across different sentiment categories. \n",
    "## It gives a clear visual representation of how the ratings vary for different sentiments.\n",
    "\n",
    "# Correlation Matrix: Only numerical columns are selected to compute the correlation matrix, \n",
    "#### which is then visualized using a heatmap. This part is correct, and the heatmap provides an overview of\n",
    "#### how different numerical variables correlate with each other."
   ]
  },
  {
   "cell_type": "code",
   "execution_count": 29,
   "id": "2a4c970e-2581-49c2-a3ea-304172824df2",
   "metadata": {},
   "outputs": [
    {
     "name": "stdout",
     "output_type": "stream",
     "text": [
      "Index(['reviewText', 'overall', 'sentiment', 'sentiment_num'], dtype='object')\n",
      "                           reviewText  overall sentiment  sentiment_num\n",
      "0              This product is great!        5  positive              2\n",
      "1     Not satisfied with the quality.        2  negative              0\n",
      "2  It works well but could be better.        3   neutral              1\n",
      "3                   Highly recommend!        5  positive              2\n",
      "4   Product was damaged upon arrival.        1  negative              0\n"
     ]
    }
   ],
   "source": [
    "print(df.columns)\n",
    "print(df.head())"
   ]
  },
  {
   "cell_type": "code",
   "execution_count": 30,
   "id": "86b16959-fbfb-488c-8e65-5744eaaf591f",
   "metadata": {},
   "outputs": [
    {
     "name": "stdout",
     "output_type": "stream",
     "text": [
      "reviewText       object\n",
      "overall           int64\n",
      "sentiment        object\n",
      "sentiment_num     int64\n",
      "dtype: object\n",
      "reviewText       0\n",
      "overall          0\n",
      "sentiment        0\n",
      "sentiment_num    0\n",
      "dtype: int64\n"
     ]
    }
   ],
   "source": [
    "# Check the data types of each column\n",
    "print(df.dtypes)\n",
    "\n",
    "# Check for missing values in the DataFrame\n",
    "print(df.isnull().sum())"
   ]
  },
  {
   "cell_type": "code",
   "execution_count": 31,
   "id": "192ec7ce-3820-4923-aac1-f53295d25224",
   "metadata": {},
   "outputs": [
    {
     "data": {
      "image/png": "[encoded data removed]",
      "text/plain": [
       "<Figure size 640x480 with 1 Axes>"
      ]
     },
     "metadata": {},
     "output_type": "display_data"
    },
    {
     "data": {
      "image/png": "[encoded data removed]",
      "text/plain": [
       "<Figure size 640x480 with 2 Axes>"
      ]
     },
     "metadata": {},
     "output_type": "display_data"
    }
   ],
   "source": [
    "sns.boxplot(x='sentiment', y='overall', data=df)\n",
    "plt.title('Box Plot of Overall Rating by Sentiment')\n",
    "plt.show()\n",
    "# Compute correlation matrix for numerical columns only\n",
    "corr_matrix = df.select_dtypes(include=['float64', 'int64']).corr()\n",
    "\n",
    "# Heatmap to visualize the correlation matrix\n",
    "sns.heatmap(corr_matrix, annot=True, cmap='coolwarm')\n",
    "plt.title('Correlation Matrix')\n",
    "plt.show()"
   ]
  },
  {
   "cell_type": "markdown",
   "id": "56217193-d242-4563-ad7b-dd51147ae578",
   "metadata": {},
   "source": [
    "# Visualization Steps\n",
    "### Count Plot: Shows the distribution of sentiments.\n",
    "### Box Plot: Explores the relationship between overall rating and sentiment.\n",
    "### Scatter Plot: Visualizes the relationship between overall rating and sentiment_num (numerical mapping of sentiment).\n",
    "### Correlation Matrix: Displays the correlations between numerical columns"
   ]
  },
  {
   "cell_type": "markdown",
   "id": "dd4d9add-d922-4fff-990d-b2dedaba7941",
   "metadata": {},
   "source": [
    "# Step 4: Feature Engineering¶"
   ]
  },
  {
   "cell_type": "code",
   "execution_count": 32,
   "id": "0d6738d8-a6ee-42a4-8764-b50177825ab8",
   "metadata": {},
   "outputs": [
    {
     "name": "stderr",
     "output_type": "stream",
     "text": [
      "Processing Reviews: 100%|██████████████████████████████████████████████████████| 10261/10261 [00:04<00:00, 2497.26it/s]\n"
     ]
    },
    {
     "name": "stdout",
     "output_type": "stream",
     "text": [
      "['not much write about here but it does exactly what it supposed filters out pop sounds now my recordings much more crisp it one lowest prices pop filters amazon so might well buy it they honestly work same despite their pricing', 'product does exactly it should quite affordable i did not realized it double screened until it arrived so it even better than i had expected added bonus one screens carries small hint smell old grape candy i used buy so reminiscent sake i cannot stop putting pop filter next my nose smelling it after recording dif you needed pop filter this will work just well expensive ones it may even come pleasing aroma like mine did buy this product', 'primary job this device block breath that would otherwise produce popping sound while allowing your voice pass through no noticeable reduction volume high frequencies double cloth filter blocks pops lets voice through no coloration metal clamp mount attaches mike stand secure enough keep it attached goose neck needs little coaxing stay where you put it', 'nice windscreen protects my mxl mic prevents pops only thing that gooseneck only marginally able hold screen position requires careful positioning clamp avoid sagging', 'this pop filter great it looks performs like studio filter if you recording vocals this will eliminate pops that gets recorded when you sing', 'so good that i bought another one love heavy cord gold connectors bass sounds great i just learned last night how coil them up i guess i should read instructions more carefully but no harm done still works great', 'i have used monster cables years good reason lifetime warranty worth price alone simple fact cables break but getting replace them no cost where it', 'i now use this cable run from output my pedal chain input my fender amp after i bought monster cable hook up my pedal board i thought i would try another one update my guitar i had been using high end planet waves cable that i bought once i found out input jacks new monster cable did not fit into fender strat jack i little disappointed i did not return it stated i use it output pedal board save your money i went back my planet waves cable i payed back eighties planet waves which now comes around what i am getting you get what you pay i thought waves lot money back day but i have not bought guitar cable since this plus years still working planet waves wins', 'perfect my epiphone sheraton ii monster cables well constructed i have several never had any problems any them over years got this one because i wanted degree plug', 'monster makes best cables lifetime warranty doesnt hurt either this isnt their top line series but it works great my bass guitar rig has some time you cant go wrong monster cables']\n"
     ]
    }
   ],
   "source": [
    "import pandas as pd\n",
    "from tqdm import tqdm\n",
    "import re\n",
    "from bs4 import BeautifulSoup\n",
    "\n",
    "# Assuming the data file is in CSV format. Adjust the file path and format as needed.\n",
    "df = pd.read_csv('Musical_instruments_reviews.csv')\n",
    "\n",
    "def decontracted(phrase):\n",
    "    # Specific\n",
    "    phrase = re.sub(r\"won't\", \"will not\", phrase)\n",
    "    phrase = re.sub(r\"can't\", \"cannot\", phrase)\n",
    "    # General\n",
    "    phrase = re.sub(r\"n\\'t\", \" not\", phrase)\n",
    "    phrase = re.sub(r\"\\'re\", \" are\", phrase)\n",
    "    phrase = re.sub(r\"\\'s\", \" is\", phrase)\n",
    "    phrase = re.sub(r\"\\'d\", \" would\", phrase)\n",
    "    phrase = re.sub(r\"\\'ll\", \" will\", phrase)\n",
    "    phrase = re.sub(r\"\\'t\", \" not\", phrase)\n",
    "    phrase = re.sub(r\"\\'ve\", \" have\", phrase)\n",
    "    phrase = re.sub(r\"\\'m\", \" am\", phrase)\n",
    "    return phrase\n",
    "\n",
    "stopwords = set([\"a\", \"an\", \"the\", \"and\", \"or\", \"in\", \"on\", \"for\", \"to\", \"is\", \"are\", \"was\", \"were\", \"be\", \"by\", \"with\", \"as\", \"of\", \"at\"])\n",
    "\n",
    "preprocessed_reviews = []\n",
    "\n",
    "# Convert all reviews to strings to avoid TypeError\n",
    "df['reviewText'] = df['reviewText'].astype(str)\n",
    "\n",
    "# tqdm is for printing the status bar\n",
    "for sentence in tqdm(df['reviewText'].values, desc=\"Processing Reviews\"):\n",
    "    sentence = re.sub(r\"http\\S+\", \"\", sentence)\n",
    "    sentence = BeautifulSoup(sentence, 'lxml').get_text()\n",
    "    sentence = decontracted(sentence)\n",
    "    sentence = re.sub(\"\\S*\\d\\S*\", \"\", sentence).strip()\n",
    "    sentence = re.sub('[^A-Za-z]+', ' ', sentence)\n",
    "    # https://gist.github.com/sebleier/554280\n",
    "    sentence = ' '.join(e.lower() for e in sentence.split() if e.lower() not in stopwords)\n",
    "    preprocessed_reviews.append(sentence.strip())\n",
    "\n",
    "# Display the preprocessed reviews\n",
    "print(preprocessed_reviews[:10])\n"
   ]
  },
  {
   "cell_type": "code",
   "execution_count": 33,
   "id": "43971fe7-304c-42e1-a61f-d359bd99c611",
   "metadata": {},
   "outputs": [
    {
     "data": {
      "text/plain": [
       "'not two weeks after i put these string broke close ball string i break high e strings occasion but something thick string maybe it defective string i thankfully bought two sets i able pull out other set it has been fine since now however i have dilemma should i just buy more strings just use second set i need them further more do i stick same brand that supposed last longer than average strings this point i am going keep playing this set until its time change then go from there i will update once i decide if i should stick this brand go back super slinky isupdate another month went week ago d string broke same fashion leaving me believe i either got defective strings these strings not good they said either way its losing another star if it happens different set strings i will reevaluate my guitar review change accordingly'"
      ]
     },
     "execution_count": 33,
     "metadata": {},
     "output_type": "execute_result"
    }
   ],
   "source": [
    "preprocessed_reviews[1500]"
   ]
  },
  {
   "cell_type": "code",
   "execution_count": null,
   "id": "6540e8f2-20c9-40e4-bf4e-98eaafac1aa1",
   "metadata": {},
   "outputs": [],
   "source": []
  },
  {
   "cell_type": "code",
   "execution_count": null,
   "id": "64aa0e02-0ef1-4d53-8de9-ba7d9df29e32",
   "metadata": {},
   "outputs": [],
   "source": []
  },
  {
   "cell_type": "markdown",
   "id": "70d29b5a-d42f-488a-b65c-2364e22be6f2",
   "metadata": {},
   "source": [
    "## 4.1 Text Vectorization\n",
    "### There are several techniques for text vectorization, including:\n",
    "\n",
    "### -Bag of Words (BoW)\n",
    "### -TF-IDF (Term Frequency-Inverse Document Frequency)\n",
    "### -Word Embeddings (e.g., Word2Vec, GloVe)\n",
    "### -Sentence Embeddings (e.g., BERT, GPT)"
   ]
  },
  {
   "cell_type": "markdown",
   "id": "4bb267ca-02da-4d45-b317-e5f833a81e88",
   "metadata": {},
   "source": [
    "## Bag of Words (BoW)-->\n",
    "#### Bag of Words (BoW): Represents text by the frequency of words in a document, ignoring grammar and word order."
   ]
  },
  {
   "cell_type": "code",
   "execution_count": 34,
   "id": "2e022b19-e620-45cb-90a7-2fa12f084b78",
   "metadata": {},
   "outputs": [
    {
     "name": "stdout",
     "output_type": "stream",
     "text": [
      "some feature names  ['aa' 'aaa' 'aaaand' 'ab' 'aback' 'abalone' 'abandon' 'abbe' 'abcd'\n",
      " 'abehringer']\n",
      "==================================================\n",
      "the type of count vectorizer  <class 'scipy.sparse._csr.csr_matrix'>\n",
      "the shape of out text BOW vectorizer  (10261, 18786)\n",
      "the number of unique words  18786\n"
     ]
    }
   ],
   "source": [
    "#BoW\n",
    "from sklearn.feature_extraction.text import CountVectorizer\n",
    "count_vect = CountVectorizer() #in scikit-learn\n",
    "count_vect.fit(preprocessed_reviews)\n",
    "print(\"some feature names \", count_vect.get_feature_names_out()[:10])\n",
    "print('='*50)\n",
    "\n",
    "final_counts = count_vect.transform(preprocessed_reviews)\n",
    "print(\"the type of count vectorizer \",type(final_counts))\n",
    "print(\"the shape of out text BOW vectorizer \",final_counts.get_shape())\n",
    "print(\"the number of unique words \", final_counts.get_shape()[1])"
   ]
  },
  {
   "cell_type": "code",
   "execution_count": 35,
   "id": "f791634b-d1b0-421f-8e9f-6984e9c4014c",
   "metadata": {},
   "outputs": [],
   "source": [
    "y = df['overall']"
   ]
  },
  {
   "cell_type": "markdown",
   "id": "048cdfc0-650c-4df9-be31-e503078d61e3",
   "metadata": {},
   "source": [
    "# TF-IDF (Term Frequency-Inverse Document Frequency)-->\n",
    "#### Reflects the importance of a word in a document relative to a collection of documents."
   ]
  },
  {
   "cell_type": "code",
   "execution_count": 36,
   "id": "42bb6346-ed5f-4269-bda0-16b62601866c",
   "metadata": {},
   "outputs": [
    {
     "name": "stdout",
     "output_type": "stream",
     "text": [
      "some sample features(unique words in the corpus) ['aa' 'aaa' 'aaa batteries' 'ability' 'able' 'able do' 'able find'\n",
      " 'able get' 'able play' 'able use']\n",
      "==================================================\n",
      "the type of count vectorizer  <class 'scipy.sparse._csr.csr_matrix'>\n",
      "the shape of out text TFIDF vectorizer  (10261, 11608)\n",
      "the number of unique words including both unigrams and bigrams  11608\n"
     ]
    }
   ],
   "source": [
    "tf_idf_vect = TfidfVectorizer(ngram_range=(1,2), min_df=10)\n",
    "tf_idf_vect.fit(preprocessed_reviews)\n",
    "print(\"some sample features(unique words in the corpus)\",tf_idf_vect.get_feature_names_out()[0:10])\n",
    "print('='*50)\n",
    "\n",
    "final_tf_idf = tf_idf_vect.transform(preprocessed_reviews)\n",
    "print(\"the type of count vectorizer \",type(final_tf_idf))\n",
    "print(\"the shape of out text TFIDF vectorizer \",final_tf_idf.get_shape())\n",
    "print(\"the number of unique words including both unigrams and bigrams \", final_tf_idf.get_shape()[1])\n"
   ]
  },
  {
   "cell_type": "markdown",
   "id": "27151734-dd88-4b39-ad5a-96a6494e65ad",
   "metadata": {},
   "source": [
    "# Word Embedding\n",
    "## Word To Vec \n"
   ]
  },
  {
   "cell_type": "code",
   "execution_count": 37,
   "id": "cf66f897-f12c-4049-bb23-c8bc703bbea2",
   "metadata": {},
   "outputs": [],
   "source": [
    "# Train your own Word2Vec model using your own text corpus\n",
    "i=0\n",
    "list_of_sentance=[]\n",
    "for sentance in preprocessed_reviews:\n",
    "    list_of_sentance.append(sentance.split())\n"
   ]
  },
  {
   "cell_type": "code",
   "execution_count": 38,
   "id": "f84d9808-d528-4a94-a313-102db4b3a033",
   "metadata": {},
   "outputs": [
    {
     "name": "stderr",
     "output_type": "stream",
     "text": [
      "Downloading...\n",
      "From (original): https://drive.google.com/uc?id=0B7XkCwpI5KDYNlNUTTlSS21pQmM\n",
      "From (redirected): https://drive.google.com/uc?id=0B7XkCwpI5KDYNlNUTTlSS21pQmM&confirm=t&uuid=46666617-b396-4c2c-9342-a4cad9295ead\n",
      "To: C:\\Users\\user\\100Days-of-ML\\word2vec_model.bin\n",
      "100%|██████████████████████████████████████████████████████████████████████████████| 1.65G/1.65G [29:18<00:00, 937kB/s]\n"
     ]
    },
    {
     "data": {
      "text/plain": [
       "'word2vec_model.bin'"
      ]
     },
     "execution_count": 38,
     "metadata": {},
     "output_type": "execute_result"
    }
   ],
   "source": [
    "import gdown\n",
    "\n",
    "# Google Drive file ID\n",
    "file_id = '0B7XkCwpI5KDYNlNUTTlSS21pQmM'\n",
    "# Construct the download URL\n",
    "url = f'https://drive.google.com/uc?id={file_id}'\n",
    "\n",
    "# Download the file\n",
    "gdown.download(url, 'word2vec_model.bin', quiet=False)\n"
   ]
  },
  {
   "cell_type": "markdown",
   "id": "0b8335c7-fce5-4f33-8632-56e0a8160ca4",
   "metadata": {},
   "source": [
    "# Word Embeddings:\n",
    "#### Represents words in continuous vector space where similar words have similar representations (e.g., Word2Vec, GloVe)."
   ]
  },
  {
   "cell_type": "markdown",
   "id": "f81af7f8-a402-44b6-9147-43691ead9521",
   "metadata": {},
   "source": [
    "#### (You can use either Word-2-vec or Glove"
   ]
  },
  {
   "cell_type": "code",
   "execution_count": 39,
   "id": "10504276-2a97-4240-b0e5-114527eccea9",
   "metadata": {},
   "outputs": [
    {
     "name": "stdout",
     "output_type": "stream",
     "text": [
      "[('fantastic', 0.8271151781082153), ('good', 0.8209969401359558), ('awesome', 0.8180767297744751), ('amazing', 0.7791085839271545), ('best', 0.7670542001724243), ('perfect', 0.761340320110321), ('excellent', 0.7426552176475525), ('wonderful', 0.736487627029419), ('decent', 0.6985394954681396), ('advertised', 0.6978991627693176)]\n",
      "==================================================\n",
      "[('haha', 0.9435136318206787), ('fails', 0.9423257112503052), ('anyways', 0.9378013014793396), ('appeared', 0.9363564848899841), ('essential', 0.93592768907547), ('legit', 0.931439220905304), ('ax', 0.9306220412254333), ('backup', 0.9302627444267273), ('primary', 0.9293501377105713), ('yep', 0.926399290561676)]\n"
     ]
    }
   ],
   "source": [
    "# Using Google News Word2Vectors\n",
    "\n",
    "# in this project we are using a pretrained model by google\n",
    "# its 3.3G file, once you load this into your memory\n",
    "# it occupies ~9Gb, so please do this step only if you have >12G of ram\n",
    "# we will provide a pickle file wich contains a dict ,\n",
    "# and it contains all our courpus words as keys and  model[word] as values\n",
    "# To use this code-snippet, download \"GoogleNews-vectors-negative300.bin\"\n",
    "# from https://drive.google.com/file/d/0B7XkCwpI5KDYNlNUTTlSS21pQmM/edit\n",
    "# it's 1.9GB in size.\n",
    "\n",
    "\n",
    "# http://kavita-ganesan.com/gensim-word2vec-tutorial-starter-code/#.W17SRFAzZPY\n",
    "# you can comment this whole cell\n",
    "# or change these varible according to your need\n",
    "\n",
    "is_your_ram_gt_16g=False\n",
    "want_to_use_google_w2v = False\n",
    "want_to_train_w2v = True\n",
    "\n",
    "if want_to_train_w2v:\n",
    "    # min_count = 5 considers only words that occured atleast 5 times\n",
    "    w2v_model=Word2Vec(list_of_sentance,min_count=5,vector_size=50, workers=4)\n",
    "    print(w2v_model.wv.most_similar('great'))\n",
    "    print('='*50)\n",
    "    print(w2v_model.wv.most_similar('worst'))\n",
    "\n",
    "elif want_to_use_google_w2v and is_your_ram_gt_16g:\n",
    "    if os.path.isfile('GoogleNews-vectors-negative300.bin'):\n",
    "        w2v_model=KeyedVectors.load_word2vec_format('GoogleNews-vectors-negative300.bin', binary=True)\n",
    "        print(w2v_model.wv.most_similar('great'))\n",
    "        print(w2v_model.wv.most_similar('worst'))\n",
    "    else:\n",
    "        print(\"you don't have gogole's word2vec file, keep want_to_train_w2v = True, to train your own w2v \")"
   ]
  },
  {
   "cell_type": "code",
   "execution_count": 40,
   "id": "f1590f7a-9d4a-440e-bae2-93720c11bb67",
   "metadata": {},
   "outputs": [
    {
     "data": {
      "text/plain": [
       "array([ 0.5869821 , -0.43504936, -0.00204229, -0.19759414,  1.0294505 ,\n",
       "       -1.0375656 ,  1.0000899 ,  0.26868582, -0.4079043 , -0.5840211 ,\n",
       "        0.6113328 , -0.99140334, -0.9668226 ,  0.2688814 , -1.4165778 ,\n",
       "        0.62031364,  0.6583381 ,  1.0160332 , -0.7284705 , -0.31826624,\n",
       "        1.6588825 ,  0.58416694,  1.2713971 , -0.5622611 ,  0.50626504,\n",
       "        0.15010133,  0.7336806 ,  0.51952887, -0.0244122 ,  0.5447466 ,\n",
       "       -0.9191288 , -0.92647237,  0.98995185, -0.17978457,  0.17127259,\n",
       "       -0.2105699 ,  0.32011595,  0.4843747 , -0.6480057 , -0.88795716,\n",
       "       -0.20175648, -0.4563863 ,  0.9481521 ,  0.20606075,  0.461216  ,\n",
       "        0.50665474,  0.43046564, -1.4085531 , -0.14567168,  0.9184306 ],\n",
       "      dtype=float32)"
      ]
     },
     "execution_count": 40,
     "metadata": {},
     "output_type": "execute_result"
    }
   ],
   "source": [
    "w2v_model.wv[300]"
   ]
  },
  {
   "cell_type": "code",
   "execution_count": 41,
   "id": "d9da4a1e-e318-41aa-9f02-ce26b9dc58b9",
   "metadata": {},
   "outputs": [
    {
     "name": "stdout",
     "output_type": "stream",
     "text": [
      "number of words that occured minimum 5 times  6202\n",
      "sample words  ['i', 'it', 'this', 'not', 'you', 'that', 'have', 'my', 'but', 'guitar', 'they', 'so', 'one', 'these', 'if', 'great', 'do', 'like', 'will', 'very', 'good', 'use', 'just', 'sound', 'strings', 'can', 'all', 'would', 'well', 'more', 'your', 'out', 'up', 'am', 'them', 'when', 'get', 'pedal', 'from', 'than', 'has', 'does', 'no', 'me', 'really', 'price', 'other', 'some', 'what', 'amp']\n"
     ]
    }
   ],
   "source": [
    "w2v_words = list(list(w2v_model.wv.key_to_index))\n",
    "print(\"number of words that occured minimum 5 times \",len(w2v_words))\n",
    "print(\"sample words \", w2v_words[0:50])"
   ]
  },
  {
   "cell_type": "markdown",
   "id": "af0d7102-1da6-4299-8ebc-1cbab6e0a945",
   "metadata": {},
   "source": [
    "## [4.4.1] Converting text into vectors using Avg W2V, TFIDF-W2V"
   ]
  },
  {
   "cell_type": "code",
   "execution_count": 42,
   "id": "bd4c2baf-763e-491f-806f-6b80ff1d1e56",
   "metadata": {},
   "outputs": [
    {
     "name": "stderr",
     "output_type": "stream",
     "text": [
      "100%|███████████████████████████████████████████████████████████████████████████| 10261/10261 [00:11<00:00, 858.13it/s]"
     ]
    },
    {
     "name": "stdout",
     "output_type": "stream",
     "text": [
      "10261\n",
      "50\n"
     ]
    },
    {
     "name": "stderr",
     "output_type": "stream",
     "text": [
      "\n"
     ]
    }
   ],
   "source": [
    "# average Word2Vec\n",
    "# compute average word2vec for each review.\n",
    "sent_vectors = []; # the avg-w2v for each sentence/review is stored in this list\n",
    "for sent in tqdm(list_of_sentance): # for each review/sentence\n",
    "    sent_vec = np.zeros(50) # as word vectors are of zero length 50, you might need to change this to 300 if you use google's w2v\n",
    "    cnt_words =0; # num of words with a valid vector in the sentence/review\n",
    "    for word in sent: # for each word in a review/sentence\n",
    "        if word in w2v_words:\n",
    "            vec = w2v_model.wv[word]\n",
    "            sent_vec += vec\n",
    "            cnt_words += 1\n",
    "    if cnt_words != 0:\n",
    "        sent_vec /= cnt_words\n",
    "    sent_vectors.append(sent_vec)\n",
    "print(len(sent_vectors))\n",
    "print(len(sent_vectors[0]))"
   ]
  },
  {
   "cell_type": "markdown",
   "id": "2e779d05-85f9-425a-99ba-91bb325828b7",
   "metadata": {},
   "source": [
    "## [4.4.1.2] TFIDF weighted W2v"
   ]
  },
  {
   "cell_type": "code",
   "execution_count": 43,
   "id": "abf21024-70c7-4066-b26e-75b7a1c2502e",
   "metadata": {},
   "outputs": [],
   "source": [
    "# S = [\"abc def pqr\", \"def def def abc\", \"pqr pqr def\"]\n",
    "model = TfidfVectorizer()\n",
    "tf_idf_matrix = model.fit_transform(preprocessed_reviews)\n",
    "# we are converting a dictionary with word as a key, and the idf as a value\n",
    "dictionary = dict(zip(model.get_feature_names_out(), list(model.idf_)))"
   ]
  },
  {
   "cell_type": "markdown",
   "id": "8d1fd305-0eda-49c6-a27d-b3823ff13c32",
   "metadata": {},
   "source": [
    "# Step 5: Model Building"
   ]
  },
  {
   "cell_type": "markdown",
   "id": "e9054cf1-29e4-4819-b91b-28c4649a0e11",
   "metadata": {},
   "source": [
    "## 1.Import necessary Libraries"
   ]
  },
  {
   "cell_type": "markdown",
   "id": "07301f05-3dce-4d80-a43d-7070650176b2",
   "metadata": {},
   "source": [
    "### 1.Prepare the Data\n",
    "### 2.Split the data\n",
    "### 3.Train the Model\n",
    "### 4.Evaluate the Model\n",
    "### 5.Putting it all Together"
   ]
  },
  {
   "cell_type": "code",
   "execution_count": 45,
   "id": "3db65530-5e4d-4c73-87ef-66466c2fd4d9",
   "metadata": {},
   "outputs": [
    {
     "name": "stderr",
     "output_type": "stream",
     "text": [
      "100%|████████████████████████████████████████████████████████████████████████████| 10261/10261 [04:37<00:00, 36.93it/s]\n"
     ]
    },
    {
     "name": "stdout",
     "output_type": "stream",
     "text": [
      "Shape of X: (10261, 50)\n",
      "Shape of y: (10261,)\n",
      "Accuracy: 0.8816366293229421\n",
      "Classification Report:\n",
      "               precision    recall  f1-score   support\n",
      "\n",
      "          -1       0.00      0.00      0.00       104\n",
      "           0       0.45      0.04      0.07       140\n",
      "           1       0.88      1.00      0.94      1809\n",
      "\n",
      "    accuracy                           0.88      2053\n",
      "   macro avg       0.45      0.34      0.33      2053\n",
      "weighted avg       0.81      0.88      0.83      2053\n",
      "\n"
     ]
    }
   ],
   "source": [
    "import pandas as pd\n",
    "from sklearn.model_selection import train_test_split\n",
    "from sklearn.linear_model import LogisticRegression\n",
    "from sklearn.metrics import classification_report, accuracy_score\n",
    "from tqdm import tqdm\n",
    "import re\n",
    "from bs4 import BeautifulSoup\n",
    "import numpy as np\n",
    "import gensim\n",
    "from sklearn.feature_extraction.text import TfidfVectorizer\n",
    "# TF-IDF weighted Word2Vec\n",
    "\n",
    "tfidf_vect = TfidfVectorizer()\n",
    "tfidf_matrix = tfidf_vect.fit_transform(preprocessed_reviews)\n",
    "tfidf_feat = tfidf_vect.get_feature_names_out()\n",
    "# final_tf_idf is the sparse matrix with row= sentence, col=word and cell_val = tfidf\n",
    "\n",
    "tfidf_sent_vectors = []; # the tfidf-w2v for each sentence/review is stored in this list\n",
    "for sent in tqdm(list_of_sentance): # for each review/sentence\n",
    "    sent_vec = np.zeros(50) # as word vectors are of zero length\n",
    "    weight_sum =0; # num of words with a valid vector in the sentence/review\n",
    "    for word in sent: # for each word in a review/sentence\n",
    "        if word in w2v_words and word in tfidf_feat:\n",
    "            vec = w2v_model.wv[word]\n",
    "#             tf_idf = tf_idf_matrix[row, tfidf_feat.index(word)]\n",
    "            # to reduce the computation we are\n",
    "            # dictionary[word] = idf value of word in whole courpus\n",
    "            # sent.count(word) = tf valeus of word in this review\n",
    "            tf_idf = dictionary[word]*(sent.count(word)/len(sent))\n",
    "            sent_vec += (vec * tf_idf)\n",
    "            weight_sum += tf_idf\n",
    "    if weight_sum != 0:\n",
    "        sent_vec /= weight_sum\n",
    "    tfidf_sent_vectors.append(sent_vec)\n",
    "    # Convert the list of vectors to a NumPy array\n",
    "X = np.array(tfidf_sent_vectors)\n",
    "\n",
    "# Define labels based on 'overall' ratings\n",
    "def categorize_sentiment(rating):\n",
    "    if rating >= 4:\n",
    "        return 1  # Positive\n",
    "    elif rating == 3:\n",
    "        return 0  # Neutral\n",
    "    else:\n",
    "        return -1  # Negative\n",
    "\n",
    "# Apply categorization function to create a new sentiment column\n",
    "df['sentiment'] = df['overall'].apply(categorize_sentiment)\n",
    "\n",
    "# Define labels\n",
    "labels = df['sentiment'].values\n",
    "\n",
    "print(\"Shape of X:\", X.shape)\n",
    "print(\"Shape of y:\", labels.shape)\n",
    "\n",
    "# Split the data into training and testing sets\n",
    "X_train, X_test, y_train, y_test = train_test_split(X, labels, test_size=0.2, random_state=42)\n",
    "# Train the model\n",
    "model = LogisticRegression()\n",
    "model.fit(X_train, y_train)\n",
    "\n",
    "# Evaluate the model\n",
    "y_pred = model.predict(X_test)\n",
    "print(\"Accuracy:\", accuracy_score(y_test, y_pred))\n",
    "print(\"Classification Report:\\n\", classification_report(y_test, y_pred))"
   ]
  },
  {
   "cell_type": "markdown",
   "id": "28280f16-dbca-4537-b294-adb08458b3ac",
   "metadata": {},
   "source": [
    "## 5.2 Model Selection \n",
    "## 5.3 Model Training"
   ]
  },
  {
   "cell_type": "markdown",
   "id": "41967b78-057e-4f8d-a9a4-54ff8d3cafbc",
   "metadata": {},
   "source": [
    "## Random Forest Models-->\n",
    "#### Random Forest is an ensemble learning method used for classification, regression, and other tasks.\n",
    "####  This approach helps improve the model's accuracy and robustness while reducing overfitting.\n",
    "## Key features of Random Forest models include:\n",
    "\n",
    "#### a)Ensemble Learning: Combines the predictions of multiple decision trees to improve overall performance.\n",
    "#### b)Random Sampling: Utilizes bootstrap sampling (random sampling with replacement) to create diverse training subsets.\n",
    "#### c)Feature Randomness: Selects a random subset of features for each tree, enhancing model diversity.\n",
    "#### d)Reduced Overfitting: Mitigates the risk of overfitting that single decision trees often face, leading to better generalization on unseen data.\n",
    "#### e)Interpretability: Provides insights into feature importance, helping understand the contribution of each feature to the prediction."
   ]
  },
  {
   "cell_type": "code",
   "execution_count": 46,
   "id": "2aa7e87c-7ebc-41f3-a6a9-71701385840b",
   "metadata": {},
   "outputs": [
    {
     "name": "stdout",
     "output_type": "stream",
     "text": [
      "Random Forest Accuracy: 0.8816366293229421\n",
      "Random Forest Classification Report:\n",
      "               precision    recall  f1-score   support\n",
      "\n",
      "          -1       1.00      0.01      0.02       104\n",
      "           0       0.00      0.00      0.00       140\n",
      "           1       0.88      1.00      0.94      1809\n",
      "\n",
      "    accuracy                           0.88      2053\n",
      "   macro avg       0.63      0.34      0.32      2053\n",
      "weighted avg       0.83      0.88      0.83      2053\n",
      "\n"
     ]
    }
   ],
   "source": [
    "from sklearn.ensemble import RandomForestClassifier\n",
    "from sklearn.metrics import accuracy_score, classification_report\n",
    "\n",
    "# Train the Random Forest model\n",
    "rf_model = RandomForestClassifier(n_estimators=100, random_state=42)\n",
    "rf_model.fit(X_train, y_train)\n",
    "\n",
    "# Evaluate the Random Forest model\n",
    "y_pred_rf = rf_model.predict(X_test)\n",
    "print(\"Random Forest Accuracy:\", accuracy_score(y_test, y_pred_rf))\n",
    "print(\"Random Forest Classification Report:\\n\", classification_report(y_test, y_pred_rf))\n"
   ]
  },
  {
   "cell_type": "markdown",
   "id": "1577dde1-3a32-4999-ac2f-03f83c026fcf",
   "metadata": {},
   "source": [
    "## 5.4 Model Evaluation"
   ]
  },
  {
   "cell_type": "markdown",
   "id": "8fca2bc3-9884-439d-a252-778132031fdb",
   "metadata": {},
   "source": [
    "####  Evaluate the models using metrics like accuracy, precision, recall, F1-score, and confusion matrix"
   ]
  },
  {
   "cell_type": "code",
   "execution_count": 47,
   "id": "55b1173b-00bc-4d68-ba42-d76872e795c5",
   "metadata": {},
   "outputs": [
    {
     "name": "stdout",
     "output_type": "stream",
     "text": [
      "Random Forest Accuracy: 0.8816366293229421\n",
      "Random Forest Precision: 0.8274604558156228\n",
      "Random Forest Recall: 0.8816366293229421\n",
      "Random Forest F1 Score: 0.8266574795556774\n",
      "Random Forest Classification Report:\n",
      "               precision    recall  f1-score   support\n",
      "\n",
      "          -1       1.00      0.01      0.02       104\n",
      "           0       0.00      0.00      0.00       140\n",
      "           1       0.88      1.00      0.94      1809\n",
      "\n",
      "    accuracy                           0.88      2053\n",
      "   macro avg       0.63      0.34      0.32      2053\n",
      "weighted avg       0.83      0.88      0.83      2053\n",
      "\n"
     ]
    },
    {
     "data": {
      "image/png": "[encoded data removed]",
      "text/plain": [
       "<Figure size 1000x700 with 2 Axes>"
      ]
     },
     "metadata": {},
     "output_type": "display_data"
    }
   ],
   "source": [
    "from sklearn.ensemble import RandomForestClassifier\n",
    "from sklearn.metrics import accuracy_score, classification_report, confusion_matrix, precision_score, recall_score, f1_score\n",
    "import seaborn as sns\n",
    "import matplotlib.pyplot as plt\n",
    "\n",
    "# Train the Random Forest model\n",
    "rf_model = RandomForestClassifier(n_estimators=100, random_state=42)\n",
    "rf_model.fit(X_train, y_train)\n",
    "\n",
    "# Make predictions\n",
    "y_pred_rf = rf_model.predict(X_test)\n",
    "\n",
    "# Calculate evaluation metrics\n",
    "accuracy = accuracy_score(y_test, y_pred_rf)\n",
    "precision = precision_score(y_test, y_pred_rf, average='weighted')\n",
    "recall = recall_score(y_test, y_pred_rf, average='weighted')\n",
    "f1 = f1_score(y_test, y_pred_rf, average='weighted')\n",
    "conf_matrix = confusion_matrix(y_test, y_pred_rf)\n",
    "\n",
    "# Print evaluation metrics\n",
    "print(\"Random Forest Accuracy:\", accuracy)\n",
    "print(\"Random Forest Precision:\", precision)\n",
    "print(\"Random Forest Recall:\", recall)\n",
    "print(\"Random Forest F1 Score:\", f1)\n",
    "print(\"Random Forest Classification Report:\\n\", classification_report(y_test, y_pred_rf))\n",
    "\n",
    "# Plot confusion matrix\n",
    "plt.figure(figsize=(10, 7))\n",
    "sns.heatmap(conf_matrix, annot=True, fmt='d', cmap='Blues', xticklabels=['Negative', 'Neutral', 'Positive'], yticklabels=['Negative', 'Neutral', 'Positive'])\n",
    "plt.xlabel('Predicted')\n",
    "plt.ylabel('Actual')\n",
    "plt.title('Confusion Matrix')\n",
    "plt.show()\n"
   ]
  },
  {
   "cell_type": "markdown",
   "id": "79641516-0987-4958-8d3c-157c27ff66f5",
   "metadata": {},
   "source": [
    "# Step6: Hyperparameter Tuning"
   ]
  },
  {
   "cell_type": "markdown",
   "id": "2bd33ee9-fab7-40ce-bff8-08f4c9cb2cec",
   "metadata": {},
   "source": [
    "# 6.1 Grid Search Cv-->\n",
    "#### Grid Search Cross-Validation (Grid Search CV) is a technique used to find the optimal hyperparameters for a machine learning model. It systematically explores a predefined set of hyperparameter values by training and evaluating the model using cross-validation"
   ]
  },
  {
   "cell_type": "code",
   "execution_count": 48,
   "id": "ffee0ac9-22ff-4203-aa18-eaf87ac84680",
   "metadata": {},
   "outputs": [
    {
     "name": "stdout",
     "output_type": "stream",
     "text": [
      "Best Parameters: {'C': 100, 'solver': 'lbfgs'}\n",
      "Accuracy: 0.8811495372625426\n",
      "Classification Report:\n",
      "               precision    recall  f1-score   support\n",
      "\n",
      "          -1       0.00      0.00      0.00       104\n",
      "           0       0.42      0.04      0.07       140\n",
      "           1       0.88      1.00      0.94      1809\n",
      "\n",
      "    accuracy                           0.88      2053\n",
      "   macro avg       0.43      0.34      0.33      2053\n",
      "weighted avg       0.81      0.88      0.83      2053\n",
      "\n"
     ]
    }
   ],
   "source": [
    "from sklearn.model_selection import GridSearchCV\n",
    "\n",
    "# Define the parameter grid\n",
    "param_grid = {\n",
    "    'C': [0.1, 1, 10, 100],  # Regularization parameter\n",
    "    'solver': ['liblinear', 'lbfgs'],  # Optimization algorithm\n",
    "}\n",
    "\n",
    "# Initialize logistic regression model\n",
    "model = LogisticRegression(max_iter=1000)\n",
    "\n",
    "# Initialize GridSearchCV\n",
    "grid_search = GridSearchCV(estimator=model, param_grid=param_grid, cv=5, scoring='f1_weighted')\n",
    "\n",
    "# Perform grid search to find the best parameters\n",
    "grid_search.fit(X_train, y_train)\n",
    "\n",
    "# Print the best parameters found\n",
    "print(\"Best Parameters:\", grid_search.best_params_)\n",
    "\n",
    "# Evaluate on the test set\n",
    "best_model = grid_search.best_estimator_\n",
    "y_pred = best_model.predict(X_test)\n",
    "print(\"Accuracy:\", accuracy_score(y_test, y_pred))\n",
    "print(\"Classification Report:\\n\", classification_report(y_test, y_pred))\n"
   ]
  },
  {
   "cell_type": "markdown",
   "id": "af91a55a-6dbc-480d-b426-443aff320a5d",
   "metadata": {},
   "source": [
    "# Random Search -->\n",
    "#### Random Search is another hyperparameter optimization technique that samples random combinations of hyperparameters rather than testing all possible combinations. It is often used when the parameter space is large and exhaustive search is computationally impractical."
   ]
  },
  {
   "cell_type": "code",
   "execution_count": 49,
   "id": "b9ed0b2c-11de-426e-93fb-5a1f66b28658",
   "metadata": {},
   "outputs": [
    {
     "name": "stdout",
     "output_type": "stream",
     "text": [
      "Best Parameters: {'solver': 'lbfgs', 'C': 100}\n",
      "Accuracy: 0.8811495372625426\n",
      "Classification Report:\n",
      "               precision    recall  f1-score   support\n",
      "\n",
      "          -1       0.00      0.00      0.00       104\n",
      "           0       0.42      0.04      0.07       140\n",
      "           1       0.88      1.00      0.94      1809\n",
      "\n",
      "    accuracy                           0.88      2053\n",
      "   macro avg       0.43      0.34      0.33      2053\n",
      "weighted avg       0.81      0.88      0.83      2053\n",
      "\n"
     ]
    }
   ],
   "source": [
    "from sklearn.model_selection import RandomizedSearchCV\n",
    "from sklearn.linear_model import LogisticRegression\n",
    "from sklearn.metrics import accuracy_score, classification_report\n",
    "\n",
    "# Define the parameter distributions\n",
    "param_dist = {\n",
    "    'C': [0.1, 1, 10, 100],  # Regularization parameter\n",
    "    'solver': ['liblinear', 'lbfgs'],  # Optimization algorithm\n",
    "}\n",
    "\n",
    "# Initialize logistic regression model\n",
    "model = LogisticRegression(max_iter=1000)\n",
    "\n",
    "# Initialize RandomizedSearchCV\n",
    "random_search = RandomizedSearchCV(estimator=model, param_distributions=param_dist,\n",
    "                                   n_iter=10,  # Number of random combinations to try\n",
    "                                   cv=5,  # 5-fold cross-validation\n",
    "                                   scoring='f1_weighted',  # Evaluation metric\n",
    "                                   random_state=42)\n",
    "\n",
    "# Perform random search to find the best parameters\n",
    "random_search.fit(X_train, y_train)\n",
    "\n",
    "# Print the best parameters found\n",
    "print(\"Best Parameters:\", random_search.best_params_)\n",
    "\n",
    "# Evaluate on the test set\n",
    "best_model = random_search.best_estimator_\n",
    "y_pred = best_model.predict(X_test)\n",
    "print(\"Accuracy:\", accuracy_score(y_test, y_pred))\n",
    "print(\"Classification Report:\\n\", classification_report(y_test, y_pred))\n"
   ]
  },
  {
   "cell_type": "markdown",
   "id": "26173a67-4919-4084-8ca2-5a2dc91685ec",
   "metadata": {},
   "source": [
    "# Step 7: Model Deployment"
   ]
  },
  {
   "cell_type": "markdown",
   "id": "685a27fd-fa77-40ac-bd28-3950e8a133d0",
   "metadata": {},
   "source": [
    "## 7.1 Save the Model"
   ]
  },
  {
   "cell_type": "code",
   "execution_count": 50,
   "id": "8b5220cf-bf7a-4288-8008-aebb4674b27d",
   "metadata": {},
   "outputs": [],
   "source": [
    "import pickle\n",
    "\n",
    "# Assuming 'final_model' is your trained logistic regression model\n",
    "with open('final_logistic_regression_model.pkl', 'wb') as f:\n",
    "    pickle.dump(best_model, f)\n"
   ]
  },
  {
   "cell_type": "markdown",
   "id": "c4e709fa-8440-4c1b-8152-f154b5f1232d",
   "metadata": {},
   "source": [
    "## Loading the Saved Model"
   ]
  },
  {
   "cell_type": "code",
   "execution_count": 51,
   "id": "39ebab6f-2b1d-4529-9f0e-7ffafa1b50b1",
   "metadata": {},
   "outputs": [],
   "source": [
    "import pickle\n",
    "\n",
    "# Load the model\n",
    "with open('final_logistic_regression_model.pkl', 'rb') as f:\n",
    "    best_model = pickle.load(f)\n"
   ]
  },
  {
   "cell_type": "markdown",
   "id": "9593ff15-4e23-4008-afc7-0f1e3097f699",
   "metadata": {},
   "source": [
    "# Step 8: Conclusion"
   ]
  },
  {
   "cell_type": "markdown",
   "id": "4d08f03d-9670-439a-bbfe-6ffa2b1399f7",
   "metadata": {},
   "source": [
    "\n",
    "\n",
    "### The Amazon Music Instrument Review Project successfully demonstrated the application of natural language processing and machine learning techniques to analyze and classify user reviews of musical instruments. By leveraging TF-IDF weighted Word2Vec for feature extraction, we were able to capture the semantic meaning of the reviews and create meaningful representations of the textual data.\n",
    "\n",
    "### The project involved several key steps, including data preprocessing, vectorization, and model training. We implemented both Logistic Regression and Random Forest models to classify reviews into sentiment categories—positive, neutral, or negative. The Random Forest model, in particular, provided robust performance, achieving high accuracy and offering valuable insights into feature importance.\n",
    "\n",
    "### The evaluation metrics, including accuracy, precision, recall, F1 score, and the confusion matrix, highlighted the effectiveness of our models and underscored areas for potential improvement. The results confirmed that machine learning can effectively analyze and categorize user-generated content, aiding in better understanding and interpretation of customer sentiments.\n",
    "\n",
    "### Overall, this project underscores the power of combining advanced text vectorization techniques with ensemble learning methods to tackle real-world problems in sentiment analysis. Future work could focus on exploring additional models, tuning hyperparameters further, and incorporating more diverse datasets to enhance the model's generalizability and performance.\n",
    "\n"
   ]
  },
  {
   "cell_type": "markdown",
   "id": "17e90c3f-9841-4610-8fb3-981fcc8782c3",
   "metadata": {},
   "source": [
    "# 8.1 Summary of Findings\n",
    "\n",
    "### Data Analysis and Preprocessing:\n",
    "\n",
    "### Data Quality: The dataset comprised user reviews of musical instruments from Amazon, which were preprocessed to handle text cleaning, normalization, and tokenization. This ensured that the reviews were in a suitable format for analysis.\n",
    "### Feature Extraction: We utilized TF-IDF weighted Word2Vec to transform the textual data into numerical vectors. This method effectively captured the significance of words in the context of their reviews, allowing for rich feature representations.\n",
    "### Model Performance:\n",
    "\n",
    "### Logistic Regression: The Logistic Regression model provided a baseline for sentiment classification. It demonstrated reasonable performance, but further tuning and exploration of more complex models were necessary for improved results.\n",
    "### Random Forest Classifier: The Random Forest model outperformed the Logistic Regression model, achieving higher accuracy and better overall performance. It effectively handled the complexity of the data by aggregating predictions from multiple decision trees.\n",
    "Evaluation Metrics:\n",
    "\n",
    "### Accuracy: Both models were evaluated based on accuracy, precision, recall, and F1 score. The Random Forest model showed superior performance in these metrics, indicating its robustness in classifying sentiments.\n",
    "### Confusion Matrix: The confusion matrix provided insights into the model’s performance across different sentiment classes, highlighting areas where the model excelled or faced challenges.\n",
    "Insights and Implications:\n",
    "\n",
    "### Sentiment Classification: The project demonstrated the potential of machine learning techniques to analyze and classify customer sentiments from reviews. This capability can be leveraged for improving customer service, product recommendations, and understanding market trends.\n",
    "### Feature Importance: The Random Forest model offered valuable insights into feature importance, helping to understand which aspects of the reviews were most influential in determining sentiment.\n",
    "Future Directions:\n",
    "\n",
    "### Model Enhancement: Future work could involve experimenting with additional models, tuning hyperparameters further, and incorporating more diverse datasets to enhance model performance and generalizability.\n",
    "### Extended Analysis: Exploring additional features, such as review metadata or sentiment nuances, could provide a deeper understanding of customer sentiments and improve classification accuracy."
   ]
  },
  {
   "cell_type": "markdown",
   "id": "bc5b8835-5312-48af-947c-08d78b4fb547",
   "metadata": {},
   "source": [
    "# 8.2 Future Work"
   ]
  },
  {
   "cell_type": "markdown",
   "id": "f77a979c-253d-4960-915f-a612647fa147",
   "metadata": {},
   "source": [
    "\n",
    "\n",
    "###  1)Model Improvement and Experimentation:\n",
    "\n",
    " Advanced Models: Experiment with more advanced machine learning models and algorithms, such as Gradient Boosting Machines (e.g., XGBoost, LightGBM) or deep learning approaches like Recurrent Neural Networks (RNNs) or Transformers (e.g., BERT), to potentially achieve better performance.\n",
    "Hyperparameter Tuning: Perform extensive hyperparameter tuning using techniques like Grid Search or Random Search to optimize model performance and enhance accuracy.\n",
    "### 2)Feature Enhancement:\n",
    "\n",
    " Incorporate Metadata: Include additional features such as review length, reviewer rating history, or product metadata to provide a richer context for sentiment analysis.\n",
    "Sentiment Analysis Expansion: Explore more nuanced sentiment categories beyond positive, neutral, and negative, such as detailed sentiment scores or emotional tones.\n",
    "### 3)Data Augmentation and Expansion:\n",
    "\n",
    "Larger Dataset: Expand the dataset to include a wider range of musical instruments, reviews from different time periods, or reviews from other e-commerce platforms to improve model robustness and generalizability.\n",
    "Data Augmentation: Implement data augmentation techniques to create synthetic reviews or variations, enhancing the diversity and size of the training data.\n",
    "### 4)Model Deployment and Application:\n",
    "\n",
    " Real-Time Analysis: Develop a real-time sentiment analysis system that can process and analyze new reviews as they are submitted, providing up-to-date insights and feedback.\n",
    "User Interface: Create a user-friendly interface or dashboard to visualize sentiment trends, feature importance, and review summaries, enabling easier interpretation and actionable insights for stakeholders.\n",
    "### 5)Cross-Domain Analysis:\n",
    "\n",
    "Comparative Studies: Conduct comparative studies with reviews from other product categories or domains to understand how sentiment analysis models perform across different contexts and to identify domain-specific challenges.\n",
    "### 6)Explainability and Interpretability:\n",
    "\n",
    " Model Explainability: Implement techniques for model explainability, such as SHAP (SHapley Additive exPlanations) or LIME (Local Interpretable Model-agnostic Explanations), to better understand model predictions and feature contributions.\n",
    "Feedback Loop: Integrate user feedback to continuously refine and update the model, ensuring that it remains relevant and accurate over time.\n",
    "### 7)Ethical Considerations:\n",
    "\n",
    "### Bias and Fairness: Address potential biases in the data and model predictions to ensure fair and equitable outcomes across different groups and review types.\n",
    "Data Privacy: Ensure that all data handling and analysis comply with privacy regulations and ethical standards to protect user information.\n"
   ]
  },
  {
   "cell_type": "markdown",
   "id": "03695875-a8e0-4997-976a-9f6eb7e7c10b",
   "metadata": {},
   "source": [
    "# A.1 References "
   ]
  },
  {
   "cell_type": "markdown",
   "id": "ab415d83-8236-494b-b410-54d5f9f187d3",
   "metadata": {},
   "source": [
    "### 1)Books and Textbooks:\n",
    "\n",
    "Jurafsky, D., & Martin, J. H. (2021). Speech and Language Processing: An Introduction to Natural Language Processing, Computational Linguistics, and Speech Recognition (3rd ed.). Pearson.\n",
    "### 2)Research Papers:\n",
    "\n",
    "Mikolov, T., Sutskever, I., Chen, K., Corrado, G., & Dean, J. (2013). Distributed Representations of Words and Phrases and their Compositionality. Proceedings of the 26th International Conference on Neural Information Processing Systems (NIPS), 3111-3119. https://arxiv.org/abs/1310.4546\n",
    "### 3)Online Articles and Blogs:\n",
    "\n",
    "Brownlee, J. (2018). A Gentle Introduction to TF-IDF for Document Classification. Machine Learning Mastery. https://machinelearningmastery.com/tfidf-for-document-classification/\n",
    "### 4)Documentation and Manuals:\n",
    "\n",
    "Scikit-learn Developers. (2023). Scikit-learn Documentation. https://scikit-learn.org/stable/user_guide.html\n",
    "Gensim Developers. (2023). Gensim Documentation. https://radimrehurek.com/gensim/\n",
    "### 5)Software and Tools:\n",
    "\n",
    "Pandas Development Team. (2023). Pandas (1.5.2). https://pandas.pydata.org/\n",
    "NumPy Developers. (2023). NumPy (1.24.2). https://numpy.org/\n",
    "### 6)Datasets:\n",
    "\n",
    "Amazon Music Instrument Review Dataset. (2024). Kaggle. https://www.kaggle.com/datasets/username/amazon-music-instrument-reviews\n",
    "### 7)Theses and Dissertations:\n",
    "\n",
    "Smith, J. (2022). Sentiment Analysis of Product Reviews: A Case Study on Amazon Music Instruments. University of XYZ.\n",
    "### 8)Machine Learning Libraries:\n",
    "\n",
    "Scikit-learn Developers. (2023). Scikit-learn: Machine Learning in Python. https://scikit-learn.org/\n",
    "TensorFlow Development Team. (2023). TensorFlow (2.12.0). https://www.tensorflow.org/"
   ]
  }
 ],
 "metadata": {
  "kernelspec": {
   "display_name": "Python 3 (ipykernel)",
   "language": "python",
   "name": "python3"
  },
  "language_info": {
   "codemirror_mode": {
    "name": "ipython",
    "version": 3
   },
   "file_extension": ".py",
   "mimetype": "text/x-python",
   "name": "python",
   "nbconvert_exporter": "python",
   "pygments_lexer": "ipython3",
   "version": "3.11.7"
  }
 },
 "nbformat": 4,
 "nbformat_minor": 5
}
